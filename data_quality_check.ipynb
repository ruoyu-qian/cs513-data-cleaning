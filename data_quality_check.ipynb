{
 "cells": [
  {
   "cell_type": "code",
   "execution_count": 1,
   "metadata": {},
   "outputs": [],
   "source": [
    "import pandas as pd"
   ]
  },
  {
   "cell_type": "code",
   "execution_count": 3,
   "metadata": {},
   "outputs": [],
   "source": [
    "data = pd.read_csv('./data/farmersmarkets-2017-01-10.csv')"
   ]
  },
  {
   "cell_type": "code",
   "execution_count": 9,
   "metadata": {},
   "outputs": [
    {
     "data": {
      "text/plain": [
       "(8665, 59)"
      ]
     },
     "execution_count": 9,
     "metadata": {},
     "output_type": "execute_result"
    }
   ],
   "source": [
    "data.shape"
   ]
  },
  {
   "attachments": {},
   "cell_type": "markdown",
   "metadata": {},
   "source": [
    "### FMID"
   ]
  },
  {
   "cell_type": "code",
   "execution_count": 4,
   "metadata": {},
   "outputs": [
    {
     "data": {
      "text/plain": [
       "0"
      ]
     },
     "execution_count": 4,
     "metadata": {},
     "output_type": "execute_result"
    }
   ],
   "source": [
    "sum(data.FMID.isnull())"
   ]
  },
  {
   "cell_type": "code",
   "execution_count": 5,
   "metadata": {},
   "outputs": [
    {
     "data": {
      "text/plain": [
       "8665"
      ]
     },
     "execution_count": 5,
     "metadata": {},
     "output_type": "execute_result"
    }
   ],
   "source": [
    "data.FMID.nunique()"
   ]
  },
  {
   "attachments": {},
   "cell_type": "markdown",
   "metadata": {},
   "source": [
    "### Payment"
   ]
  },
  {
   "cell_type": "code",
   "execution_count": 12,
   "metadata": {},
   "outputs": [
    {
     "name": "stdout",
     "output_type": "stream",
     "text": [
      "Number of missing values: 0\n",
      "['Y' 'N']\n",
      "Number of missing values: 0\n",
      "['Y' 'N']\n",
      "Number of missing values: 0\n",
      "['N' 'Y']\n",
      "Number of missing values: 0\n",
      "['Y' 'N']\n",
      "Number of missing values: 0\n",
      "['N' 'Y']\n"
     ]
    }
   ],
   "source": [
    "for i in ['Credit', 'WIC', 'WICcash', 'SFMNP', 'SNAP']:\n",
    "    print(\"Number of missing values: {}\".format(sum(data[i].isnull())))\n",
    "    print(data[i].unique())"
   ]
  },
  {
   "attachments": {},
   "cell_type": "markdown",
   "metadata": {},
   "source": [
    "### Products"
   ]
  },
  {
   "cell_type": "code",
   "execution_count": 13,
   "metadata": {},
   "outputs": [
    {
     "name": "stdout",
     "output_type": "stream",
     "text": [
      "['Y' '-' 'N']\n",
      "['Y' nan 'N']\n",
      "['Y' 'N' nan]\n",
      "['Y' 'N' nan]\n",
      "['Y' nan 'N']\n",
      "['Y' nan 'N']\n",
      "['N' nan 'Y']\n",
      "['Y' nan 'N']\n",
      "['Y' nan 'N']\n",
      "['Y' nan 'N']\n",
      "['Y' nan 'N']\n",
      "['Y' nan 'N']\n",
      "['Y' nan 'N']\n",
      "['N' nan 'Y']\n",
      "['N' nan 'Y']\n",
      "['Y' 'N' nan]\n",
      "['Y' 'N' nan]\n",
      "['Y' 'N' nan]\n",
      "['Y' 'N' nan]\n",
      "['Y' 'N' nan]\n",
      "['N' nan 'Y']\n",
      "['Y' 'N' nan]\n",
      "['Y' 'N' nan]\n",
      "['Y' nan 'N']\n",
      "['N' nan 'Y']\n",
      "['Y' 'N' nan]\n",
      "['N' nan 'Y']\n",
      "['Y' 'N' nan]\n",
      "['N' nan 'Y']\n"
     ]
    }
   ],
   "source": [
    "for i in [\n",
    "    'Organic', 'Bakedgoods','Cheese', 'Crafts', 'Flowers', 'Eggs', 'Seafood', 'Herbs', \n",
    "    'Vegetables', 'Honey', 'Jams', 'Maple', 'Meat', 'Nursery', 'Nuts', 'Plants',\n",
    "    'Poultry', 'Prepared', 'Soap', 'Trees', 'Wine', 'Coffee', 'Beans', 'Fruits', \n",
    "    'Grains', 'Juices', 'Mushrooms', 'PetFood', 'Tofu'\n",
    "]:\n",
    "    print(data[i].unique())"
   ]
  },
  {
   "attachments": {},
   "cell_type": "markdown",
   "metadata": {},
   "source": [
    "### Longitude and Latitude"
   ]
  },
  {
   "cell_type": "code",
   "execution_count": 14,
   "metadata": {},
   "outputs": [
    {
     "data": {
      "text/html": [
       "<div>\n",
       "<style scoped>\n",
       "    .dataframe tbody tr th:only-of-type {\n",
       "        vertical-align: middle;\n",
       "    }\n",
       "\n",
       "    .dataframe tbody tr th {\n",
       "        vertical-align: top;\n",
       "    }\n",
       "\n",
       "    .dataframe thead th {\n",
       "        text-align: right;\n",
       "    }\n",
       "</style>\n",
       "<table border=\"1\" class=\"dataframe\">\n",
       "  <thead>\n",
       "    <tr style=\"text-align: right;\">\n",
       "      <th></th>\n",
       "      <th>x</th>\n",
       "      <th>y</th>\n",
       "    </tr>\n",
       "  </thead>\n",
       "  <tbody>\n",
       "    <tr>\n",
       "      <th>count</th>\n",
       "      <td>8636.000000</td>\n",
       "      <td>8636.000000</td>\n",
       "    </tr>\n",
       "    <tr>\n",
       "      <th>mean</th>\n",
       "      <td>-90.972803</td>\n",
       "      <td>39.164435</td>\n",
       "    </tr>\n",
       "    <tr>\n",
       "      <th>std</th>\n",
       "      <td>17.491602</td>\n",
       "      <td>5.294078</td>\n",
       "    </tr>\n",
       "    <tr>\n",
       "      <th>min</th>\n",
       "      <td>-166.540000</td>\n",
       "      <td>17.709900</td>\n",
       "    </tr>\n",
       "    <tr>\n",
       "      <th>25%</th>\n",
       "      <td>-97.296663</td>\n",
       "      <td>36.276390</td>\n",
       "    </tr>\n",
       "    <tr>\n",
       "      <th>50%</th>\n",
       "      <td>-86.230908</td>\n",
       "      <td>40.050650</td>\n",
       "    </tr>\n",
       "    <tr>\n",
       "      <th>75%</th>\n",
       "      <td>-77.535994</td>\n",
       "      <td>42.449438</td>\n",
       "    </tr>\n",
       "    <tr>\n",
       "      <th>max</th>\n",
       "      <td>-64.704300</td>\n",
       "      <td>64.862750</td>\n",
       "    </tr>\n",
       "  </tbody>\n",
       "</table>\n",
       "</div>"
      ],
      "text/plain": [
       "                 x            y\n",
       "count  8636.000000  8636.000000\n",
       "mean    -90.972803    39.164435\n",
       "std      17.491602     5.294078\n",
       "min    -166.540000    17.709900\n",
       "25%     -97.296663    36.276390\n",
       "50%     -86.230908    40.050650\n",
       "75%     -77.535994    42.449438\n",
       "max     -64.704300    64.862750"
      ]
     },
     "execution_count": 14,
     "metadata": {},
     "output_type": "execute_result"
    }
   ],
   "source": [
    "data[['x', 'y']].describe()"
   ]
  },
  {
   "cell_type": "code",
   "execution_count": null,
   "metadata": {},
   "outputs": [],
   "source": []
  }
 ],
 "metadata": {
  "kernelspec": {
   "display_name": "base",
   "language": "python",
   "name": "python3"
  },
  "language_info": {
   "codemirror_mode": {
    "name": "ipython",
    "version": 3
   },
   "file_extension": ".py",
   "mimetype": "text/x-python",
   "name": "python",
   "nbconvert_exporter": "python",
   "pygments_lexer": "ipython3",
   "version": "3.8.3"
  },
  "orig_nbformat": 4
 },
 "nbformat": 4,
 "nbformat_minor": 2
}
